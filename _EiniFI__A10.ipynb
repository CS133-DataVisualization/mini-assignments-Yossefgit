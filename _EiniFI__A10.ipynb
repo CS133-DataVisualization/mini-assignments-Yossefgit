{
  "cells": [
    {
      "cell_type": "markdown",
      "metadata": {
        "id": "-AqiLKPR3r6d"
      },
      "source": [
        "# Working with complicated dataset"
      ]
    },
    {
      "cell_type": "markdown",
      "source": [
        "Your name:Yossef Eini"
      ],
      "metadata": {
        "id": "uZ0oeT3-S5iq"
      }
    },
    {
      "cell_type": "markdown",
      "metadata": {
        "id": "tio0jU9Y3r6h"
      },
      "source": [
        "### Question 1\n",
        "\n",
        "blast_results: https://raw.githubusercontent.com/csbfx/advpy122-data/master/blast_results.csv\n",
        "\n",
        "Read in the data from the csv file above. Skip all the comment lines, create a header for the dataframe based on the fields list in the comment line that starts with **# Fields:**. Drop the first column `query acc.ver`. Set the `subject acc.ver` as the index of the dataframe. The last column of the dataframe should be `publications`. Show the first five rows of the resulting dataframe."
      ]
    },
    {
      "cell_type": "code",
      "execution_count": 46,
      "metadata": {
        "id": "zkhws8KT3r6i",
        "colab": {
          "base_uri": "https://localhost:8080/",
          "height": 394
        },
        "outputId": "5d927897-0dfa-47d6-b3be-866ef68266c0"
      },
      "outputs": [
        {
          "output_type": "stream",
          "name": "stdout",
          "text": [
            "                  publications\n",
            "subject acc.ver.              \n",
            "NP_904328.1                9.0\n",
            "AGK29621.1                47.0\n",
            "YP_220563.1               13.0\n",
            "ACM24502.1                41.0\n",
            "AHG32084.1                 3.0\n"
          ]
        },
        {
          "output_type": "execute_result",
          "data": {
            "text/plain": [
              "                  perc_identity  alignment_length  mismatches  gap_openings  \\\n",
              "subject acc.ver.                                                              \n",
              "NP_904328.1             100.000               318           0             0   \n",
              "AGK29621.1               99.686               318           1             0   \n",
              "YP_220563.1              99.686               318           1             0   \n",
              "ACM24502.1               99.686               318           1             0   \n",
              "AHG32084.1               99.371               318           2             0   \n",
              "\n",
              "                  q.start  q.end  s.start  s.end  evalue  bit_score  \\\n",
              "subject acc.ver.                                                      \n",
              "NP_904328.1             1    318        1    318       0        629   \n",
              "AGK29621.1              1    318        1    318       0        629   \n",
              "YP_220563.1             1    318        1    318       0        627   \n",
              "ACM24502.1              1    318        1    318       0        627   \n",
              "AHG32084.1              1    318        1    318       0        627   \n",
              "\n",
              "                  perc positives    bonds  publications  \n",
              "subject acc.ver.                                         \n",
              "NP_904328.1               100.00   1487.0           9.0  \n",
              "AGK29621.1                100.00  17947.0          47.0  \n",
              "YP_220563.1               100.00  12106.0          13.0  \n",
              "ACM24502.1                 99.69   2319.0          41.0  \n",
              "AHG32084.1                100.00  18964.0           3.0  "
            ],
            "text/html": [
              "\n",
              "  <div id=\"df-0510e086-6e17-467f-8bba-e3e4baad2728\" class=\"colab-df-container\">\n",
              "    <div>\n",
              "<style scoped>\n",
              "    .dataframe tbody tr th:only-of-type {\n",
              "        vertical-align: middle;\n",
              "    }\n",
              "\n",
              "    .dataframe tbody tr th {\n",
              "        vertical-align: top;\n",
              "    }\n",
              "\n",
              "    .dataframe thead th {\n",
              "        text-align: right;\n",
              "    }\n",
              "</style>\n",
              "<table border=\"1\" class=\"dataframe\">\n",
              "  <thead>\n",
              "    <tr style=\"text-align: right;\">\n",
              "      <th></th>\n",
              "      <th>perc_identity</th>\n",
              "      <th>alignment_length</th>\n",
              "      <th>mismatches</th>\n",
              "      <th>gap_openings</th>\n",
              "      <th>q.start</th>\n",
              "      <th>q.end</th>\n",
              "      <th>s.start</th>\n",
              "      <th>s.end</th>\n",
              "      <th>evalue</th>\n",
              "      <th>bit_score</th>\n",
              "      <th>perc positives</th>\n",
              "      <th>bonds</th>\n",
              "      <th>publications</th>\n",
              "    </tr>\n",
              "    <tr>\n",
              "      <th>subject acc.ver.</th>\n",
              "      <th></th>\n",
              "      <th></th>\n",
              "      <th></th>\n",
              "      <th></th>\n",
              "      <th></th>\n",
              "      <th></th>\n",
              "      <th></th>\n",
              "      <th></th>\n",
              "      <th></th>\n",
              "      <th></th>\n",
              "      <th></th>\n",
              "      <th></th>\n",
              "      <th></th>\n",
              "    </tr>\n",
              "  </thead>\n",
              "  <tbody>\n",
              "    <tr>\n",
              "      <th>NP_904328.1</th>\n",
              "      <td>100.000</td>\n",
              "      <td>318</td>\n",
              "      <td>0</td>\n",
              "      <td>0</td>\n",
              "      <td>1</td>\n",
              "      <td>318</td>\n",
              "      <td>1</td>\n",
              "      <td>318</td>\n",
              "      <td>0</td>\n",
              "      <td>629</td>\n",
              "      <td>100.00</td>\n",
              "      <td>1487.0</td>\n",
              "      <td>9.0</td>\n",
              "    </tr>\n",
              "    <tr>\n",
              "      <th>AGK29621.1</th>\n",
              "      <td>99.686</td>\n",
              "      <td>318</td>\n",
              "      <td>1</td>\n",
              "      <td>0</td>\n",
              "      <td>1</td>\n",
              "      <td>318</td>\n",
              "      <td>1</td>\n",
              "      <td>318</td>\n",
              "      <td>0</td>\n",
              "      <td>629</td>\n",
              "      <td>100.00</td>\n",
              "      <td>17947.0</td>\n",
              "      <td>47.0</td>\n",
              "    </tr>\n",
              "    <tr>\n",
              "      <th>YP_220563.1</th>\n",
              "      <td>99.686</td>\n",
              "      <td>318</td>\n",
              "      <td>1</td>\n",
              "      <td>0</td>\n",
              "      <td>1</td>\n",
              "      <td>318</td>\n",
              "      <td>1</td>\n",
              "      <td>318</td>\n",
              "      <td>0</td>\n",
              "      <td>627</td>\n",
              "      <td>100.00</td>\n",
              "      <td>12106.0</td>\n",
              "      <td>13.0</td>\n",
              "    </tr>\n",
              "    <tr>\n",
              "      <th>ACM24502.1</th>\n",
              "      <td>99.686</td>\n",
              "      <td>318</td>\n",
              "      <td>1</td>\n",
              "      <td>0</td>\n",
              "      <td>1</td>\n",
              "      <td>318</td>\n",
              "      <td>1</td>\n",
              "      <td>318</td>\n",
              "      <td>0</td>\n",
              "      <td>627</td>\n",
              "      <td>99.69</td>\n",
              "      <td>2319.0</td>\n",
              "      <td>41.0</td>\n",
              "    </tr>\n",
              "    <tr>\n",
              "      <th>AHG32084.1</th>\n",
              "      <td>99.371</td>\n",
              "      <td>318</td>\n",
              "      <td>2</td>\n",
              "      <td>0</td>\n",
              "      <td>1</td>\n",
              "      <td>318</td>\n",
              "      <td>1</td>\n",
              "      <td>318</td>\n",
              "      <td>0</td>\n",
              "      <td>627</td>\n",
              "      <td>100.00</td>\n",
              "      <td>18964.0</td>\n",
              "      <td>3.0</td>\n",
              "    </tr>\n",
              "  </tbody>\n",
              "</table>\n",
              "</div>\n",
              "    <div class=\"colab-df-buttons\">\n",
              "\n",
              "  <div class=\"colab-df-container\">\n",
              "    <button class=\"colab-df-convert\" onclick=\"convertToInteractive('df-0510e086-6e17-467f-8bba-e3e4baad2728')\"\n",
              "            title=\"Convert this dataframe to an interactive table.\"\n",
              "            style=\"display:none;\">\n",
              "\n",
              "  <svg xmlns=\"http://www.w3.org/2000/svg\" height=\"24px\" viewBox=\"0 -960 960 960\">\n",
              "    <path d=\"M120-120v-720h720v720H120Zm60-500h600v-160H180v160Zm220 220h160v-160H400v160Zm0 220h160v-160H400v160ZM180-400h160v-160H180v160Zm440 0h160v-160H620v160ZM180-180h160v-160H180v160Zm440 0h160v-160H620v160Z\"/>\n",
              "  </svg>\n",
              "    </button>\n",
              "\n",
              "  <style>\n",
              "    .colab-df-container {\n",
              "      display:flex;\n",
              "      gap: 12px;\n",
              "    }\n",
              "\n",
              "    .colab-df-convert {\n",
              "      background-color: #E8F0FE;\n",
              "      border: none;\n",
              "      border-radius: 50%;\n",
              "      cursor: pointer;\n",
              "      display: none;\n",
              "      fill: #1967D2;\n",
              "      height: 32px;\n",
              "      padding: 0 0 0 0;\n",
              "      width: 32px;\n",
              "    }\n",
              "\n",
              "    .colab-df-convert:hover {\n",
              "      background-color: #E2EBFA;\n",
              "      box-shadow: 0px 1px 2px rgba(60, 64, 67, 0.3), 0px 1px 3px 1px rgba(60, 64, 67, 0.15);\n",
              "      fill: #174EA6;\n",
              "    }\n",
              "\n",
              "    .colab-df-buttons div {\n",
              "      margin-bottom: 4px;\n",
              "    }\n",
              "\n",
              "    [theme=dark] .colab-df-convert {\n",
              "      background-color: #3B4455;\n",
              "      fill: #D2E3FC;\n",
              "    }\n",
              "\n",
              "    [theme=dark] .colab-df-convert:hover {\n",
              "      background-color: #434B5C;\n",
              "      box-shadow: 0px 1px 3px 1px rgba(0, 0, 0, 0.15);\n",
              "      filter: drop-shadow(0px 1px 2px rgba(0, 0, 0, 0.3));\n",
              "      fill: #FFFFFF;\n",
              "    }\n",
              "  </style>\n",
              "\n",
              "    <script>\n",
              "      const buttonEl =\n",
              "        document.querySelector('#df-0510e086-6e17-467f-8bba-e3e4baad2728 button.colab-df-convert');\n",
              "      buttonEl.style.display =\n",
              "        google.colab.kernel.accessAllowed ? 'block' : 'none';\n",
              "\n",
              "      async function convertToInteractive(key) {\n",
              "        const element = document.querySelector('#df-0510e086-6e17-467f-8bba-e3e4baad2728');\n",
              "        const dataTable =\n",
              "          await google.colab.kernel.invokeFunction('convertToInteractive',\n",
              "                                                    [key], {});\n",
              "        if (!dataTable) return;\n",
              "\n",
              "        const docLinkHtml = 'Like what you see? Visit the ' +\n",
              "          '<a target=\"_blank\" href=https://colab.research.google.com/notebooks/data_table.ipynb>data table notebook</a>'\n",
              "          + ' to learn more about interactive tables.';\n",
              "        element.innerHTML = '';\n",
              "        dataTable['output_type'] = 'display_data';\n",
              "        await google.colab.output.renderOutput(dataTable, element);\n",
              "        const docLink = document.createElement('div');\n",
              "        docLink.innerHTML = docLinkHtml;\n",
              "        element.appendChild(docLink);\n",
              "      }\n",
              "    </script>\n",
              "  </div>\n",
              "\n",
              "\n",
              "<div id=\"df-078cb0f0-83af-4a0c-b918-5923a79481c7\">\n",
              "  <button class=\"colab-df-quickchart\" onclick=\"quickchart('df-078cb0f0-83af-4a0c-b918-5923a79481c7')\"\n",
              "            title=\"Suggest charts\"\n",
              "            style=\"display:none;\">\n",
              "\n",
              "<svg xmlns=\"http://www.w3.org/2000/svg\" height=\"24px\"viewBox=\"0 0 24 24\"\n",
              "     width=\"24px\">\n",
              "    <g>\n",
              "        <path d=\"M19 3H5c-1.1 0-2 .9-2 2v14c0 1.1.9 2 2 2h14c1.1 0 2-.9 2-2V5c0-1.1-.9-2-2-2zM9 17H7v-7h2v7zm4 0h-2V7h2v10zm4 0h-2v-4h2v4z\"/>\n",
              "    </g>\n",
              "</svg>\n",
              "  </button>\n",
              "\n",
              "<style>\n",
              "  .colab-df-quickchart {\n",
              "      --bg-color: #E8F0FE;\n",
              "      --fill-color: #1967D2;\n",
              "      --hover-bg-color: #E2EBFA;\n",
              "      --hover-fill-color: #174EA6;\n",
              "      --disabled-fill-color: #AAA;\n",
              "      --disabled-bg-color: #DDD;\n",
              "  }\n",
              "\n",
              "  [theme=dark] .colab-df-quickchart {\n",
              "      --bg-color: #3B4455;\n",
              "      --fill-color: #D2E3FC;\n",
              "      --hover-bg-color: #434B5C;\n",
              "      --hover-fill-color: #FFFFFF;\n",
              "      --disabled-bg-color: #3B4455;\n",
              "      --disabled-fill-color: #666;\n",
              "  }\n",
              "\n",
              "  .colab-df-quickchart {\n",
              "    background-color: var(--bg-color);\n",
              "    border: none;\n",
              "    border-radius: 50%;\n",
              "    cursor: pointer;\n",
              "    display: none;\n",
              "    fill: var(--fill-color);\n",
              "    height: 32px;\n",
              "    padding: 0;\n",
              "    width: 32px;\n",
              "  }\n",
              "\n",
              "  .colab-df-quickchart:hover {\n",
              "    background-color: var(--hover-bg-color);\n",
              "    box-shadow: 0 1px 2px rgba(60, 64, 67, 0.3), 0 1px 3px 1px rgba(60, 64, 67, 0.15);\n",
              "    fill: var(--button-hover-fill-color);\n",
              "  }\n",
              "\n",
              "  .colab-df-quickchart-complete:disabled,\n",
              "  .colab-df-quickchart-complete:disabled:hover {\n",
              "    background-color: var(--disabled-bg-color);\n",
              "    fill: var(--disabled-fill-color);\n",
              "    box-shadow: none;\n",
              "  }\n",
              "\n",
              "  .colab-df-spinner {\n",
              "    border: 2px solid var(--fill-color);\n",
              "    border-color: transparent;\n",
              "    border-bottom-color: var(--fill-color);\n",
              "    animation:\n",
              "      spin 1s steps(1) infinite;\n",
              "  }\n",
              "\n",
              "  @keyframes spin {\n",
              "    0% {\n",
              "      border-color: transparent;\n",
              "      border-bottom-color: var(--fill-color);\n",
              "      border-left-color: var(--fill-color);\n",
              "    }\n",
              "    20% {\n",
              "      border-color: transparent;\n",
              "      border-left-color: var(--fill-color);\n",
              "      border-top-color: var(--fill-color);\n",
              "    }\n",
              "    30% {\n",
              "      border-color: transparent;\n",
              "      border-left-color: var(--fill-color);\n",
              "      border-top-color: var(--fill-color);\n",
              "      border-right-color: var(--fill-color);\n",
              "    }\n",
              "    40% {\n",
              "      border-color: transparent;\n",
              "      border-right-color: var(--fill-color);\n",
              "      border-top-color: var(--fill-color);\n",
              "    }\n",
              "    60% {\n",
              "      border-color: transparent;\n",
              "      border-right-color: var(--fill-color);\n",
              "    }\n",
              "    80% {\n",
              "      border-color: transparent;\n",
              "      border-right-color: var(--fill-color);\n",
              "      border-bottom-color: var(--fill-color);\n",
              "    }\n",
              "    90% {\n",
              "      border-color: transparent;\n",
              "      border-bottom-color: var(--fill-color);\n",
              "    }\n",
              "  }\n",
              "</style>\n",
              "\n",
              "  <script>\n",
              "    async function quickchart(key) {\n",
              "      const quickchartButtonEl =\n",
              "        document.querySelector('#' + key + ' button');\n",
              "      quickchartButtonEl.disabled = true;  // To prevent multiple clicks.\n",
              "      quickchartButtonEl.classList.add('colab-df-spinner');\n",
              "      try {\n",
              "        const charts = await google.colab.kernel.invokeFunction(\n",
              "            'suggestCharts', [key], {});\n",
              "      } catch (error) {\n",
              "        console.error('Error during call to suggestCharts:', error);\n",
              "      }\n",
              "      quickchartButtonEl.classList.remove('colab-df-spinner');\n",
              "      quickchartButtonEl.classList.add('colab-df-quickchart-complete');\n",
              "    }\n",
              "    (() => {\n",
              "      let quickchartButtonEl =\n",
              "        document.querySelector('#df-078cb0f0-83af-4a0c-b918-5923a79481c7 button');\n",
              "      quickchartButtonEl.style.display =\n",
              "        google.colab.kernel.accessAllowed ? 'block' : 'none';\n",
              "    })();\n",
              "  </script>\n",
              "</div>\n",
              "\n",
              "    </div>\n",
              "  </div>\n"
            ],
            "application/vnd.google.colaboratory.intrinsic+json": {
              "type": "dataframe",
              "variable_name": "df",
              "summary": "{\n  \"name\": \"df\",\n  \"rows\": 97,\n  \"fields\": [\n    {\n      \"column\": \"subject acc.ver.\",\n      \"properties\": {\n        \"dtype\": \"string\",\n        \"num_unique_values\": 97,\n        \"samples\": [\n          \"ADG95699.1\",\n          \"YP_004123350.1\",\n          \"ASP44815.1\"\n        ],\n        \"semantic_type\": \"\",\n        \"description\": \"\"\n      }\n    },\n    {\n      \"column\": \"perc_identity\",\n      \"properties\": {\n        \"dtype\": \"number\",\n        \"std\": 4.309392150728788,\n        \"min\": 84.543,\n        \"max\": 100.0,\n        \"num_unique_values\": 45,\n        \"samples\": [\n          93.082,\n          91.824,\n          91.509\n        ],\n        \"semantic_type\": \"\",\n        \"description\": \"\"\n      }\n    },\n    {\n      \"column\": \"alignment_length\",\n      \"properties\": {\n        \"dtype\": \"number\",\n        \"std\": 0,\n        \"min\": 315,\n        \"max\": 318,\n        \"num_unique_values\": 4,\n        \"samples\": [\n          317,\n          316,\n          318\n        ],\n        \"semantic_type\": \"\",\n        \"description\": \"\"\n      }\n    },\n    {\n      \"column\": \"mismatches\",\n      \"properties\": {\n        \"dtype\": \"number\",\n        \"std\": 13,\n        \"min\": 0,\n        \"max\": 49,\n        \"num_unique_values\": 35,\n        \"samples\": [\n          33,\n          19,\n          28\n        ],\n        \"semantic_type\": \"\",\n        \"description\": \"\"\n      }\n    },\n    {\n      \"column\": \"gap_openings\",\n      \"properties\": {\n        \"dtype\": \"number\",\n        \"std\": 0,\n        \"min\": 0,\n        \"max\": 1,\n        \"num_unique_values\": 2,\n        \"samples\": [\n          1,\n          0\n        ],\n        \"semantic_type\": \"\",\n        \"description\": \"\"\n      }\n    },\n    {\n      \"column\": \"q.start\",\n      \"properties\": {\n        \"dtype\": \"number\",\n        \"std\": 0,\n        \"min\": 1,\n        \"max\": 4,\n        \"num_unique_values\": 4,\n        \"samples\": [\n          2,\n          3\n        ],\n        \"semantic_type\": \"\",\n        \"description\": \"\"\n      }\n    },\n    {\n      \"column\": \"q.end\",\n      \"properties\": {\n        \"dtype\": \"number\",\n        \"std\": 0,\n        \"min\": 316,\n        \"max\": 318,\n        \"num_unique_values\": 3,\n        \"samples\": [\n          318,\n          317\n        ],\n        \"semantic_type\": \"\",\n        \"description\": \"\"\n      }\n    },\n    {\n      \"column\": \"s.start\",\n      \"properties\": {\n        \"dtype\": \"number\",\n        \"std\": 0,\n        \"min\": 1,\n        \"max\": 4,\n        \"num_unique_values\": 3,\n        \"samples\": [\n          1,\n          2\n        ],\n        \"semantic_type\": \"\",\n        \"description\": \"\"\n      }\n    },\n    {\n      \"column\": \"s.end\",\n      \"properties\": {\n        \"dtype\": \"number\",\n        \"std\": 0,\n        \"min\": 312,\n        \"max\": 319,\n        \"num_unique_values\": 6,\n        \"samples\": [\n          318,\n          317\n        ],\n        \"semantic_type\": \"\",\n        \"description\": \"\"\n      }\n    },\n    {\n      \"column\": \"evalue\",\n      \"properties\": {\n        \"dtype\": \"number\",\n        \"std\": 0,\n        \"min\": 0,\n        \"max\": 0,\n        \"num_unique_values\": 1,\n        \"samples\": [\n          0\n        ],\n        \"semantic_type\": \"\",\n        \"description\": \"\"\n      }\n    },\n    {\n      \"column\": \"bit_score\",\n      \"properties\": {\n        \"dtype\": \"number\",\n        \"std\": 27,\n        \"min\": 551,\n        \"max\": 629,\n        \"num_unique_values\": 46,\n        \"samples\": [\n          557\n        ],\n        \"semantic_type\": \"\",\n        \"description\": \"\"\n      }\n    },\n    {\n      \"column\": \"perc positives\",\n      \"properties\": {\n        \"dtype\": \"number\",\n        \"std\": 1.76534924214315,\n        \"min\": 93.69,\n        \"max\": 100.0,\n        \"num_unique_values\": 25,\n        \"samples\": [\n          97.79\n        ],\n        \"semantic_type\": \"\",\n        \"description\": \"\"\n      }\n    },\n    {\n      \"column\": \"bonds\",\n      \"properties\": {\n        \"dtype\": \"number\",\n        \"std\": 5866.560437701211,\n        \"min\": 1019.0,\n        \"max\": 19998.0,\n        \"num_unique_values\": 97,\n        \"samples\": [\n          18573.0\n        ],\n        \"semantic_type\": \"\",\n        \"description\": \"\"\n      }\n    },\n    {\n      \"column\": \"publications\",\n      \"properties\": {\n        \"dtype\": \"number\",\n        \"std\": 15.142032314444576,\n        \"min\": 3.0,\n        \"max\": 52.0,\n        \"num_unique_values\": 45,\n        \"samples\": [\n          25.0\n        ],\n        \"semantic_type\": \"\",\n        \"description\": \"\"\n      }\n    }\n  ]\n}"
            }
          },
          "metadata": {},
          "execution_count": 46
        }
      ],
      "source": [
        "### Your code here . . .\n",
        "import pandas as pd\n",
        "\n",
        "# URL for the blast results CSV file\n",
        "url = \"https://raw.githubusercontent.com/csbfx/advpy122-data/master/blast_results.csv\"\n",
        "df = pd.read_csv(url, comment=\"#\")\n",
        "\n",
        "# Define the column names\n",
        "column_names = [\n",
        "    'query acc.ver.', 'subject acc.ver.', 'perc_identity', 'alignment_length', 'mismatches',\n",
        "    'gap_openings', 'q.start', 'q.end', 's.start', 's.end', 'evalue', 'bit_score', 'perc positives',\n",
        "    'bonds', 'publications', 'other_column_3'\n",
        "]\n",
        "df.columns = column_names\n",
        "df.drop(columns=['query acc.ver.'], inplace=True)\n",
        "df.drop(columns=['other_column_3'], inplace=True)\n",
        "df.set_index('subject acc.ver.', inplace=True)\n",
        "\n",
        "df['publications'] = pd.to_numeric(df['publications'], errors='coerce')\n",
        "df = df.dropna(subset=['publications'])\n",
        "df['bonds'] = df['bonds'].str.replace(',', '').astype(float)\n",
        "data = df[['publications']]\n",
        "print(data.head())\n",
        "df.head()\n",
        "\n",
        "\n",
        "\n",
        "\n",
        "\n",
        "\n",
        "\n",
        "\n",
        "\n"
      ]
    },
    {
      "cell_type": "markdown",
      "metadata": {
        "id": "aHNeMncr3r6j"
      },
      "source": [
        "### Question 2\n",
        "What is the average number of publications?"
      ]
    },
    {
      "cell_type": "code",
      "execution_count": 47,
      "metadata": {
        "id": "Q1JK-hYw3r6j",
        "colab": {
          "base_uri": "https://localhost:8080/"
        },
        "outputId": "5a64ae1d-cee1-4eb8-b0b0-4eb4986e2818"
      },
      "outputs": [
        {
          "output_type": "stream",
          "name": "stdout",
          "text": [
            "publications    26.99\n",
            "dtype: float64\n"
          ]
        }
      ],
      "source": [
        "### Your code here . . .\n",
        "average_publications = data.mean()\n",
        "print(round(average_publications, 2))"
      ]
    },
    {
      "cell_type": "markdown",
      "metadata": {
        "id": "r4gRR96y3r6k"
      },
      "source": [
        "### Question 3\n",
        "List the `subject acc.ver` that has over 15,000 bonds."
      ]
    },
    {
      "cell_type": "code",
      "execution_count": 45,
      "metadata": {
        "id": "pLKiddab3r6k",
        "colab": {
          "base_uri": "https://localhost:8080/"
        },
        "outputId": "1f3cc893-f52f-4f31-944a-fedc3e854603"
      },
      "outputs": [
        {
          "output_type": "stream",
          "name": "stdout",
          "text": [
            "Index(['AGK29621.1', 'AHG32084.1', '6G2J_H', 'YP_002791042.1', 'AGK29634.1',\n",
            "       '0806162F', 'YP_009112408.1', 'YP_001876469.1', 'YP_009092269.1',\n",
            "       'AHG32149.1', 'YP_009092074.1', 'YP_009450474.1', 'YP_004123270.1',\n",
            "       'YP_009092073.1', 'AHZ60901.1', 'YP_004123350.1', 'YP_009453754.1',\n",
            "       'ADD46492.1', 'YP_009453806.1', 'YP_007024956.1', 'ASM92364.1',\n",
            "       'YP_006073044.1', 'ASM92494.1', 'ADG95699.1', 'YP_004891275.1',\n",
            "       'YP_009166014.1', 'YP_009538416.1', 'YP_009414182.1', 'YP_009178854.1',\n",
            "       'YP_009414415.1', 'YP_009353908.1', 'YP_009093743.1', 'ABX45285.1',\n",
            "       'YP_009414156.1', 'YP_009414363.1'],\n",
            "      dtype='object', name='subject acc.ver.')\n"
          ]
        }
      ],
      "source": [
        "over_15k = df[df['bonds'] > 15000]\n",
        "over_15k_subjects = over_15k.index\n",
        "print(over_15k_subjects)\n",
        "\n"
      ]
    },
    {
      "cell_type": "markdown",
      "metadata": {
        "id": "H56QTFYU3r6l"
      },
      "source": [
        "### Question 4\n",
        "Create a plot that shows the correlation between `% identity` and `% positives`."
      ]
    },
    {
      "cell_type": "code",
      "execution_count": 19,
      "metadata": {
        "id": "YD3IBzmG3r6l",
        "colab": {
          "base_uri": "https://localhost:8080/",
          "height": 472
        },
        "outputId": "8ba56210-3bb7-49aa-fe47-bbdae269cf1b"
      },
      "outputs": [
        {
          "output_type": "display_data",
          "data": {
            "text/plain": [
              "<Figure size 640x480 with 1 Axes>"
            ],
            "image/png": "[encoded data removed]"
          },
          "metadata": {}
        }
      ],
      "source": [
        "### Your code here . . .\n",
        "import seaborn as sns\n",
        "import matplotlib.pyplot as plt\n",
        "df['perc_identity'] = df['perc_identity'].astype(float)\n",
        "df['perc_positives'] = df['perc positives'].astype(float)\n",
        "sns.regplot(x='perc_identity', y='perc_positives', data=df, scatter=True, line_kws={\"color\": \"red\"})\n",
        "plt.title('Correlation between % Identity and % Positives')\n",
        "plt.xlabel('% Identity')\n",
        "plt.ylabel('% Positives')\n",
        "plt.show()\n",
        "\n"
      ]
    },
    {
      "cell_type": "markdown",
      "metadata": {
        "id": "pEUJxhad3r6m"
      },
      "source": [
        "### Question  5\n",
        "Add a column `Protein source` to the dataframe from Question 1 based on the data in this csv file: https://raw.githubusercontent.com/csbfx/advpy122-data/master/protein_source.csv. Merge the data when the `subject acc.ver` from the dataframe equals to `Protein` in the csv file. Entries without a matching protein will have `NA` as `Protein source`."
      ]
    },
    {
      "cell_type": "code",
      "execution_count": 41,
      "metadata": {
        "id": "xzIwyECv3r6m",
        "colab": {
          "base_uri": "https://localhost:8080/"
        },
        "outputId": "e051ab9f-bb4d-4a8e-f3a8-5b69f694eecb"
      },
      "outputs": [
        {
          "output_type": "stream",
          "name": "stdout",
          "text": [
            "  subject acc.ver.  perc_identity  alignment_length  mismatches  gap_openings  \\\n",
            "0      NP_904328.1        100.000               318           0             0   \n",
            "1       AGK29621.1         99.686               318           1             0   \n",
            "2      YP_220563.1         99.686               318           1             0   \n",
            "3       ACM24502.1         99.686               318           1             0   \n",
            "4       AHG32084.1         99.371               318           2             0   \n",
            "\n",
            "   q.start  q.end  s.start  s.end  evalue  bit_score  perc positives    bonds  \\\n",
            "0        1    318        1    318       0        629          100.00   1487.0   \n",
            "1        1    318        1    318       0        629          100.00  17947.0   \n",
            "2        1    318        1    318       0        627          100.00  12106.0   \n",
            "3        1    318        1    318       0        627           99.69   2319.0   \n",
            "4        1    318        1    318       0        627          100.00  18964.0   \n",
            "\n",
            "   publications  Protein Protein source  \n",
            "0           9.0      0.0         RefSeq  \n",
            "1          47.0      NaN            NaN  \n",
            "2          13.0      2.0        GenPept  \n",
            "3          41.0      NaN            NaN  \n",
            "4           3.0      NaN            NaN  \n"
          ]
        }
      ],
      "source": [
        "protein_url = \"https://raw.githubusercontent.com/csbfx/advpy122-data/master/protein_source.csv\"\n",
        "protein_df = pd.read_csv(protein_url)\n",
        "protein_column_names = ['Protein', 'subject acc.ver', 'Source']\n",
        "protein_df.columns = protein_column_names\n",
        "df.columns = df.columns.str.strip()\n",
        "protein_df.columns = protein_df.columns.str.strip()\n",
        "protein_df.rename(columns={'subject acc.ver': 'subject acc.ver.'}, inplace=True)\n",
        "together = pd.merge(df, protein_df[['subject acc.ver.', 'Protein', 'Source']], on='subject acc.ver.', how='left')\n",
        "together.rename(columns={'Source': 'Protein source'}, inplace=True)\n",
        "print(together.head())"
      ]
    }
  ],
  "metadata": {
    "kernelspec": {
      "display_name": "Python 3",
      "language": "python",
      "name": "python3"
    },
    "language_info": {
      "codemirror_mode": {
        "name": "ipython",
        "version": 3
      },
      "file_extension": ".py",
      "mimetype": "text/x-python",
      "name": "python",
      "nbconvert_exporter": "python",
      "pygments_lexer": "ipython3",
      "version": "3.7.6"
    },
    "colab": {
      "provenance": []
    }
  },
  "nbformat": 4,
  "nbformat_minor": 0
}