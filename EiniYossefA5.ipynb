{
  "cells": [
    {
      "cell_type": "markdown",
      "metadata": {
        "id": "KaXHUmuvM4cH"
      },
      "source": [
        "## Assignment 5: Advance pandas\n",
        "Let's continue to use the dataset from the wine magazine used in notebook 'Colab_Lec06_advanced-pandas' to practice data transformation, grouping, and sorting.\n",
        "\n",
        "<img src=\"https://secure.static.meredith.com/crt/store/covers/magazines/nmo/9826_l.jpg\">"
      ]
    },
    {
      "cell_type": "code",
      "execution_count": 32,
      "metadata": {
        "id": "Iv968XwaM4cI",
        "outputId": "33f14b53-96ed-44ac-d524-4f1abcc86ecb",
        "colab": {
          "base_uri": "https://localhost:8080/",
          "height": 379
        }
      },
      "outputs": [
        {
          "output_type": "execute_result",
          "data": {
            "text/plain": [
              "    country                                        description  \\\n",
              "0     Italy  Aromas include tropical fruit, broom, brimston...   \n",
              "1  Portugal  This is ripe and fruity, a wine that is smooth...   \n",
              "2        US  Tart and snappy, the flavors of lime flesh and...   \n",
              "3        US  Pineapple rind, lemon pith and orange blossom ...   \n",
              "4        US  Much like the regular bottling from 2012, this...   \n",
              "\n",
              "                          designation  points  price           province  \\\n",
              "0                        Vulkà Bianco      87    NaN  Sicily & Sardinia   \n",
              "1                            Avidagos      87   15.0              Douro   \n",
              "2                                 NaN      87   14.0             Oregon   \n",
              "3                Reserve Late Harvest      87   13.0           Michigan   \n",
              "4  Vintner's Reserve Wild Child Block      87   65.0             Oregon   \n",
              "\n",
              "              region_1           region_2         taster_name  \\\n",
              "0                 Etna                NaN       Kerin O’Keefe   \n",
              "1                  NaN                NaN          Roger Voss   \n",
              "2    Willamette Valley  Willamette Valley        Paul Gregutt   \n",
              "3  Lake Michigan Shore                NaN  Alexander Peartree   \n",
              "4    Willamette Valley  Willamette Valley        Paul Gregutt   \n",
              "\n",
              "  taster_twitter_handle                                              title  \\\n",
              "0          @kerinokeefe                  Nicosia 2013 Vulkà Bianco  (Etna)   \n",
              "1            @vossroger      Quinta dos Avidagos 2011 Avidagos Red (Douro)   \n",
              "2           @paulgwine       Rainstorm 2013 Pinot Gris (Willamette Valley)   \n",
              "3                   NaN  St. Julian 2013 Reserve Late Harvest Riesling ...   \n",
              "4           @paulgwine   Sweet Cheeks 2012 Vintner's Reserve Wild Child...   \n",
              "\n",
              "          variety               winery  \n",
              "0     White Blend              Nicosia  \n",
              "1  Portuguese Red  Quinta dos Avidagos  \n",
              "2      Pinot Gris            Rainstorm  \n",
              "3        Riesling           St. Julian  \n",
              "4      Pinot Noir         Sweet Cheeks  "
            ],
            "text/html": [
              "\n",
              "  <div id=\"df-751d3e52-d112-4ccc-8645-d7de2cd27d49\" class=\"colab-df-container\">\n",
              "    <div>\n",
              "<style scoped>\n",
              "    .dataframe tbody tr th:only-of-type {\n",
              "        vertical-align: middle;\n",
              "    }\n",
              "\n",
              "    .dataframe tbody tr th {\n",
              "        vertical-align: top;\n",
              "    }\n",
              "\n",
              "    .dataframe thead th {\n",
              "        text-align: right;\n",
              "    }\n",
              "</style>\n",
              "<table border=\"1\" class=\"dataframe\">\n",
              "  <thead>\n",
              "    <tr style=\"text-align: right;\">\n",
              "      <th></th>\n",
              "      <th>country</th>\n",
              "      <th>description</th>\n",
              "      <th>designation</th>\n",
              "      <th>points</th>\n",
              "      <th>price</th>\n",
              "      <th>province</th>\n",
              "      <th>region_1</th>\n",
              "      <th>region_2</th>\n",
              "      <th>taster_name</th>\n",
              "      <th>taster_twitter_handle</th>\n",
              "      <th>title</th>\n",
              "      <th>variety</th>\n",
              "      <th>winery</th>\n",
              "    </tr>\n",
              "  </thead>\n",
              "  <tbody>\n",
              "    <tr>\n",
              "      <th>0</th>\n",
              "      <td>Italy</td>\n",
              "      <td>Aromas include tropical fruit, broom, brimston...</td>\n",
              "      <td>Vulkà Bianco</td>\n",
              "      <td>87</td>\n",
              "      <td>NaN</td>\n",
              "      <td>Sicily &amp; Sardinia</td>\n",
              "      <td>Etna</td>\n",
              "      <td>NaN</td>\n",
              "      <td>Kerin O’Keefe</td>\n",
              "      <td>@kerinokeefe</td>\n",
              "      <td>Nicosia 2013 Vulkà Bianco  (Etna)</td>\n",
              "      <td>White Blend</td>\n",
              "      <td>Nicosia</td>\n",
              "    </tr>\n",
              "    <tr>\n",
              "      <th>1</th>\n",
              "      <td>Portugal</td>\n",
              "      <td>This is ripe and fruity, a wine that is smooth...</td>\n",
              "      <td>Avidagos</td>\n",
              "      <td>87</td>\n",
              "      <td>15.0</td>\n",
              "      <td>Douro</td>\n",
              "      <td>NaN</td>\n",
              "      <td>NaN</td>\n",
              "      <td>Roger Voss</td>\n",
              "      <td>@vossroger</td>\n",
              "      <td>Quinta dos Avidagos 2011 Avidagos Red (Douro)</td>\n",
              "      <td>Portuguese Red</td>\n",
              "      <td>Quinta dos Avidagos</td>\n",
              "    </tr>\n",
              "    <tr>\n",
              "      <th>2</th>\n",
              "      <td>US</td>\n",
              "      <td>Tart and snappy, the flavors of lime flesh and...</td>\n",
              "      <td>NaN</td>\n",
              "      <td>87</td>\n",
              "      <td>14.0</td>\n",
              "      <td>Oregon</td>\n",
              "      <td>Willamette Valley</td>\n",
              "      <td>Willamette Valley</td>\n",
              "      <td>Paul Gregutt</td>\n",
              "      <td>@paulgwine</td>\n",
              "      <td>Rainstorm 2013 Pinot Gris (Willamette Valley)</td>\n",
              "      <td>Pinot Gris</td>\n",
              "      <td>Rainstorm</td>\n",
              "    </tr>\n",
              "    <tr>\n",
              "      <th>3</th>\n",
              "      <td>US</td>\n",
              "      <td>Pineapple rind, lemon pith and orange blossom ...</td>\n",
              "      <td>Reserve Late Harvest</td>\n",
              "      <td>87</td>\n",
              "      <td>13.0</td>\n",
              "      <td>Michigan</td>\n",
              "      <td>Lake Michigan Shore</td>\n",
              "      <td>NaN</td>\n",
              "      <td>Alexander Peartree</td>\n",
              "      <td>NaN</td>\n",
              "      <td>St. Julian 2013 Reserve Late Harvest Riesling ...</td>\n",
              "      <td>Riesling</td>\n",
              "      <td>St. Julian</td>\n",
              "    </tr>\n",
              "    <tr>\n",
              "      <th>4</th>\n",
              "      <td>US</td>\n",
              "      <td>Much like the regular bottling from 2012, this...</td>\n",
              "      <td>Vintner's Reserve Wild Child Block</td>\n",
              "      <td>87</td>\n",
              "      <td>65.0</td>\n",
              "      <td>Oregon</td>\n",
              "      <td>Willamette Valley</td>\n",
              "      <td>Willamette Valley</td>\n",
              "      <td>Paul Gregutt</td>\n",
              "      <td>@paulgwine</td>\n",
              "      <td>Sweet Cheeks 2012 Vintner's Reserve Wild Child...</td>\n",
              "      <td>Pinot Noir</td>\n",
              "      <td>Sweet Cheeks</td>\n",
              "    </tr>\n",
              "  </tbody>\n",
              "</table>\n",
              "</div>\n",
              "    <div class=\"colab-df-buttons\">\n",
              "\n",
              "  <div class=\"colab-df-container\">\n",
              "    <button class=\"colab-df-convert\" onclick=\"convertToInteractive('df-751d3e52-d112-4ccc-8645-d7de2cd27d49')\"\n",
              "            title=\"Convert this dataframe to an interactive table.\"\n",
              "            style=\"display:none;\">\n",
              "\n",
              "  <svg xmlns=\"http://www.w3.org/2000/svg\" height=\"24px\" viewBox=\"0 -960 960 960\">\n",
              "    <path d=\"M120-120v-720h720v720H120Zm60-500h600v-160H180v160Zm220 220h160v-160H400v160Zm0 220h160v-160H400v160ZM180-400h160v-160H180v160Zm440 0h160v-160H620v160ZM180-180h160v-160H180v160Zm440 0h160v-160H620v160Z\"/>\n",
              "  </svg>\n",
              "    </button>\n",
              "\n",
              "  <style>\n",
              "    .colab-df-container {\n",
              "      display:flex;\n",
              "      gap: 12px;\n",
              "    }\n",
              "\n",
              "    .colab-df-convert {\n",
              "      background-color: #E8F0FE;\n",
              "      border: none;\n",
              "      border-radius: 50%;\n",
              "      cursor: pointer;\n",
              "      display: none;\n",
              "      fill: #1967D2;\n",
              "      height: 32px;\n",
              "      padding: 0 0 0 0;\n",
              "      width: 32px;\n",
              "    }\n",
              "\n",
              "    .colab-df-convert:hover {\n",
              "      background-color: #E2EBFA;\n",
              "      box-shadow: 0px 1px 2px rgba(60, 64, 67, 0.3), 0px 1px 3px 1px rgba(60, 64, 67, 0.15);\n",
              "      fill: #174EA6;\n",
              "    }\n",
              "\n",
              "    .colab-df-buttons div {\n",
              "      margin-bottom: 4px;\n",
              "    }\n",
              "\n",
              "    [theme=dark] .colab-df-convert {\n",
              "      background-color: #3B4455;\n",
              "      fill: #D2E3FC;\n",
              "    }\n",
              "\n",
              "    [theme=dark] .colab-df-convert:hover {\n",
              "      background-color: #434B5C;\n",
              "      box-shadow: 0px 1px 3px 1px rgba(0, 0, 0, 0.15);\n",
              "      filter: drop-shadow(0px 1px 2px rgba(0, 0, 0, 0.3));\n",
              "      fill: #FFFFFF;\n",
              "    }\n",
              "  </style>\n",
              "\n",
              "    <script>\n",
              "      const buttonEl =\n",
              "        document.querySelector('#df-751d3e52-d112-4ccc-8645-d7de2cd27d49 button.colab-df-convert');\n",
              "      buttonEl.style.display =\n",
              "        google.colab.kernel.accessAllowed ? 'block' : 'none';\n",
              "\n",
              "      async function convertToInteractive(key) {\n",
              "        const element = document.querySelector('#df-751d3e52-d112-4ccc-8645-d7de2cd27d49');\n",
              "        const dataTable =\n",
              "          await google.colab.kernel.invokeFunction('convertToInteractive',\n",
              "                                                    [key], {});\n",
              "        if (!dataTable) return;\n",
              "\n",
              "        const docLinkHtml = 'Like what you see? Visit the ' +\n",
              "          '<a target=\"_blank\" href=https://colab.research.google.com/notebooks/data_table.ipynb>data table notebook</a>'\n",
              "          + ' to learn more about interactive tables.';\n",
              "        element.innerHTML = '';\n",
              "        dataTable['output_type'] = 'display_data';\n",
              "        await google.colab.output.renderOutput(dataTable, element);\n",
              "        const docLink = document.createElement('div');\n",
              "        docLink.innerHTML = docLinkHtml;\n",
              "        element.appendChild(docLink);\n",
              "      }\n",
              "    </script>\n",
              "  </div>\n",
              "\n",
              "\n",
              "<div id=\"df-a8c3c62f-f658-41d9-b361-96be9d4e4c6d\">\n",
              "  <button class=\"colab-df-quickchart\" onclick=\"quickchart('df-a8c3c62f-f658-41d9-b361-96be9d4e4c6d')\"\n",
              "            title=\"Suggest charts\"\n",
              "            style=\"display:none;\">\n",
              "\n",
              "<svg xmlns=\"http://www.w3.org/2000/svg\" height=\"24px\"viewBox=\"0 0 24 24\"\n",
              "     width=\"24px\">\n",
              "    <g>\n",
              "        <path d=\"M19 3H5c-1.1 0-2 .9-2 2v14c0 1.1.9 2 2 2h14c1.1 0 2-.9 2-2V5c0-1.1-.9-2-2-2zM9 17H7v-7h2v7zm4 0h-2V7h2v10zm4 0h-2v-4h2v4z\"/>\n",
              "    </g>\n",
              "</svg>\n",
              "  </button>\n",
              "\n",
              "<style>\n",
              "  .colab-df-quickchart {\n",
              "      --bg-color: #E8F0FE;\n",
              "      --fill-color: #1967D2;\n",
              "      --hover-bg-color: #E2EBFA;\n",
              "      --hover-fill-color: #174EA6;\n",
              "      --disabled-fill-color: #AAA;\n",
              "      --disabled-bg-color: #DDD;\n",
              "  }\n",
              "\n",
              "  [theme=dark] .colab-df-quickchart {\n",
              "      --bg-color: #3B4455;\n",
              "      --fill-color: #D2E3FC;\n",
              "      --hover-bg-color: #434B5C;\n",
              "      --hover-fill-color: #FFFFFF;\n",
              "      --disabled-bg-color: #3B4455;\n",
              "      --disabled-fill-color: #666;\n",
              "  }\n",
              "\n",
              "  .colab-df-quickchart {\n",
              "    background-color: var(--bg-color);\n",
              "    border: none;\n",
              "    border-radius: 50%;\n",
              "    cursor: pointer;\n",
              "    display: none;\n",
              "    fill: var(--fill-color);\n",
              "    height: 32px;\n",
              "    padding: 0;\n",
              "    width: 32px;\n",
              "  }\n",
              "\n",
              "  .colab-df-quickchart:hover {\n",
              "    background-color: var(--hover-bg-color);\n",
              "    box-shadow: 0 1px 2px rgba(60, 64, 67, 0.3), 0 1px 3px 1px rgba(60, 64, 67, 0.15);\n",
              "    fill: var(--button-hover-fill-color);\n",
              "  }\n",
              "\n",
              "  .colab-df-quickchart-complete:disabled,\n",
              "  .colab-df-quickchart-complete:disabled:hover {\n",
              "    background-color: var(--disabled-bg-color);\n",
              "    fill: var(--disabled-fill-color);\n",
              "    box-shadow: none;\n",
              "  }\n",
              "\n",
              "  .colab-df-spinner {\n",
              "    border: 2px solid var(--fill-color);\n",
              "    border-color: transparent;\n",
              "    border-bottom-color: var(--fill-color);\n",
              "    animation:\n",
              "      spin 1s steps(1) infinite;\n",
              "  }\n",
              "\n",
              "  @keyframes spin {\n",
              "    0% {\n",
              "      border-color: transparent;\n",
              "      border-bottom-color: var(--fill-color);\n",
              "      border-left-color: var(--fill-color);\n",
              "    }\n",
              "    20% {\n",
              "      border-color: transparent;\n",
              "      border-left-color: var(--fill-color);\n",
              "      border-top-color: var(--fill-color);\n",
              "    }\n",
              "    30% {\n",
              "      border-color: transparent;\n",
              "      border-left-color: var(--fill-color);\n",
              "      border-top-color: var(--fill-color);\n",
              "      border-right-color: var(--fill-color);\n",
              "    }\n",
              "    40% {\n",
              "      border-color: transparent;\n",
              "      border-right-color: var(--fill-color);\n",
              "      border-top-color: var(--fill-color);\n",
              "    }\n",
              "    60% {\n",
              "      border-color: transparent;\n",
              "      border-right-color: var(--fill-color);\n",
              "    }\n",
              "    80% {\n",
              "      border-color: transparent;\n",
              "      border-right-color: var(--fill-color);\n",
              "      border-bottom-color: var(--fill-color);\n",
              "    }\n",
              "    90% {\n",
              "      border-color: transparent;\n",
              "      border-bottom-color: var(--fill-color);\n",
              "    }\n",
              "  }\n",
              "</style>\n",
              "\n",
              "  <script>\n",
              "    async function quickchart(key) {\n",
              "      const quickchartButtonEl =\n",
              "        document.querySelector('#' + key + ' button');\n",
              "      quickchartButtonEl.disabled = true;  // To prevent multiple clicks.\n",
              "      quickchartButtonEl.classList.add('colab-df-spinner');\n",
              "      try {\n",
              "        const charts = await google.colab.kernel.invokeFunction(\n",
              "            'suggestCharts', [key], {});\n",
              "      } catch (error) {\n",
              "        console.error('Error during call to suggestCharts:', error);\n",
              "      }\n",
              "      quickchartButtonEl.classList.remove('colab-df-spinner');\n",
              "      quickchartButtonEl.classList.add('colab-df-quickchart-complete');\n",
              "    }\n",
              "    (() => {\n",
              "      let quickchartButtonEl =\n",
              "        document.querySelector('#df-a8c3c62f-f658-41d9-b361-96be9d4e4c6d button');\n",
              "      quickchartButtonEl.style.display =\n",
              "        google.colab.kernel.accessAllowed ? 'block' : 'none';\n",
              "    })();\n",
              "  </script>\n",
              "</div>\n",
              "\n",
              "    </div>\n",
              "  </div>\n"
            ],
            "application/vnd.google.colaboratory.intrinsic+json": {
              "type": "dataframe",
              "variable_name": "wine",
              "summary": "{\n  \"name\": \"wine\",\n  \"rows\": 65499,\n  \"fields\": [\n    {\n      \"column\": \"country\",\n      \"properties\": {\n        \"dtype\": \"category\",\n        \"num_unique_values\": 41,\n        \"samples\": [\n          \"Uruguay\",\n          \"Hungary\",\n          \"Australia\"\n        ],\n        \"semantic_type\": \"\",\n        \"description\": \"\"\n      }\n    },\n    {\n      \"column\": \"description\",\n      \"properties\": {\n        \"dtype\": \"string\",\n        \"num_unique_values\": 62824,\n        \"samples\": [\n          \"Superripe in blackberry, red plum, cherry, mocha, fig and caramel flavors, this wine certainly scores high on the deliciousness factor. It could use greater structural depth and complexity but is good overall.\",\n          \"Soft and ripe in extracted cherry and blackberry jam fruit, this also has some heat on the palate, the result of 15% alcohol. It feels a little simple, and the heat is off-putting.\",\n          \"Big, ripe, generous, this wine is on the rich side of the 2006 vintage. At this stage, it offers peach and apricot, with honeyed yeast flavors. The minerality crispens the texture, while black pepper and firm tannins suggest aging ability.\"\n        ],\n        \"semantic_type\": \"\",\n        \"description\": \"\"\n      }\n    },\n    {\n      \"column\": \"designation\",\n      \"properties\": {\n        \"dtype\": \"category\",\n        \"num_unique_values\": 24187,\n        \"samples\": [\n          \"Private Edition\",\n          \"Tinto Barrica\",\n          \"Wiltinger Trocken\"\n        ],\n        \"semantic_type\": \"\",\n        \"description\": \"\"\n      }\n    },\n    {\n      \"column\": \"points\",\n      \"properties\": {\n        \"dtype\": \"number\",\n        \"std\": 3,\n        \"min\": 80,\n        \"max\": 100,\n        \"num_unique_values\": 21,\n        \"samples\": [\n          87,\n          93,\n          96\n        ],\n        \"semantic_type\": \"\",\n        \"description\": \"\"\n      }\n    },\n    {\n      \"column\": \"price\",\n      \"properties\": {\n        \"dtype\": \"number\",\n        \"std\": 39.477857833796,\n        \"min\": 4.0,\n        \"max\": 2500.0,\n        \"num_unique_values\": 312,\n        \"samples\": [\n          171.0,\n          30.0,\n          125.0\n        ],\n        \"semantic_type\": \"\",\n        \"description\": \"\"\n      }\n    },\n    {\n      \"column\": \"province\",\n      \"properties\": {\n        \"dtype\": \"category\",\n        \"num_unique_values\": 385,\n        \"samples\": [\n          \"Valais\",\n          \"Lolol Valley\",\n          \"Northern Cape\"\n        ],\n        \"semantic_type\": \"\",\n        \"description\": \"\"\n      }\n    },\n    {\n      \"column\": \"region_1\",\n      \"properties\": {\n        \"dtype\": \"category\",\n        \"num_unique_values\": 1111,\n        \"samples\": [\n          \"Chianti Montespertoli\",\n          \"Auxey-Duresses\",\n          \"Santa Clara Valley\"\n        ],\n        \"semantic_type\": \"\",\n        \"description\": \"\"\n      }\n    },\n    {\n      \"column\": \"region_2\",\n      \"properties\": {\n        \"dtype\": \"category\",\n        \"num_unique_values\": 17,\n        \"samples\": [\n          \"Willamette Valley\",\n          \"Napa\",\n          \"Central Valley\"\n        ],\n        \"semantic_type\": \"\",\n        \"description\": \"\"\n      }\n    },\n    {\n      \"column\": \"taster_name\",\n      \"properties\": {\n        \"dtype\": \"category\",\n        \"num_unique_values\": 19,\n        \"samples\": [\n          \"Kerin O\\u2019Keefe\",\n          \"Anna Lee C. Iijima\",\n          \"Anne Krebiehl\\u00a0MW\"\n        ],\n        \"semantic_type\": \"\",\n        \"description\": \"\"\n      }\n    },\n    {\n      \"column\": \"taster_twitter_handle\",\n      \"properties\": {\n        \"dtype\": \"category\",\n        \"num_unique_values\": 15,\n        \"samples\": [\n          \"@AnneInVino\",\n          \"@worldwineguys\",\n          \"@kerinokeefe\"\n        ],\n        \"semantic_type\": \"\",\n        \"description\": \"\"\n      }\n    },\n    {\n      \"column\": \"title\",\n      \"properties\": {\n        \"dtype\": \"string\",\n        \"num_unique_values\": 62466,\n        \"samples\": [\n          \"Arista 2014 Chardonnay (Russian River Valley)\",\n          \"Aljibes 2012 Syrah (Vino de la Tierra de Castilla)\",\n          \"Stewart Cellars 2016 Ros\\u00e9 (Sonoma Mountain)\"\n        ],\n        \"semantic_type\": \"\",\n        \"description\": \"\"\n      }\n    },\n    {\n      \"column\": \"variety\",\n      \"properties\": {\n        \"dtype\": \"category\",\n        \"num_unique_values\": 590,\n        \"samples\": [\n          \"Plyto\",\n          \"Feteasc\\u01ce Regal\\u01ce\",\n          \"Tempranillo-Malbec\"\n        ],\n        \"semantic_type\": \"\",\n        \"description\": \"\"\n      }\n    },\n    {\n      \"column\": \"winery\",\n      \"properties\": {\n        \"dtype\": \"category\",\n        \"num_unique_values\": 13549,\n        \"samples\": [\n          \"Ch\\u00e2teau Mougneaux\",\n          \"Ch\\u00e2teau Comte Devaugelas\",\n          \"Cherokee Vineyards\"\n        ],\n        \"semantic_type\": \"\",\n        \"description\": \"\"\n      }\n    }\n  ]\n}"
            }
          },
          "metadata": {},
          "execution_count": 32
        }
      ],
      "source": [
        "csvurl=\"https://gist.githubusercontent.com/clairehq/\" + \\\n",
        "        \"79acab35be50eaf1c383948ed3fd1129/raw/407a02139ae1e134992b90b4b2b8c329b3d73a6a/winemag-data-130k-v2.csv\"\n",
        "import pandas as pd\n",
        "wine = pd.read_csv(csvurl)\n",
        "wine.drop(wine.columns[0], axis=\"columns\", inplace=True)\n",
        "wine.head()"
      ]
    },
    {
      "cell_type": "markdown",
      "metadata": {
        "id": "B5icW1ooM4cK"
      },
      "source": [
        "#### Question 1: ####  \n",
        "What is the mean of the points column?"
      ]
    },
    {
      "cell_type": "code",
      "source": [
        "# Your code here . . .\n",
        "print(wine['points'].mean())"
      ],
      "metadata": {
        "id": "zfLRcH-QNZk8",
        "colab": {
          "base_uri": "https://localhost:8080/"
        },
        "outputId": "06dfbd38-1d9f-4e4c-a49e-d044885ce526"
      },
      "execution_count": 2,
      "outputs": [
        {
          "output_type": "stream",
          "name": "stdout",
          "text": [
            "88.43403716087269\n"
          ]
        }
      ]
    },
    {
      "cell_type": "markdown",
      "metadata": {
        "id": "xgUNI-hfM4cK"
      },
      "source": [
        "#### Question 2: ####  \n",
        "How many countries are present in this dataset? (Only count each country once)"
      ]
    },
    {
      "cell_type": "code",
      "source": [
        "# Your code here . . .\n",
        "print(wine['country'].nunique())"
      ],
      "metadata": {
        "id": "3VtO-ngdNau1",
        "colab": {
          "base_uri": "https://localhost:8080/"
        },
        "outputId": "6fb78e55-a3b2-4511-f4d3-95fbfe702e4a"
      },
      "execution_count": 3,
      "outputs": [
        {
          "output_type": "stream",
          "name": "stdout",
          "text": [
            "41\n"
          ]
        }
      ]
    },
    {
      "cell_type": "markdown",
      "metadata": {
        "id": "o0LDb6ahM4cL"
      },
      "source": [
        "#### Question 3: ####\n",
        "How many times does each country appeared in this dataset? Show each country and the corresponding count (show counts in ascending order)"
      ]
    },
    {
      "cell_type": "code",
      "source": [
        "# Your code here . . .\n",
        "print(wine['country'].value_counts())"
      ],
      "metadata": {
        "id": "tLZ7v1RYNdDm",
        "colab": {
          "base_uri": "https://localhost:8080/"
        },
        "outputId": "9a71bb5b-c2da-4a6d-c3e9-a29cd170bb22"
      },
      "execution_count": 5,
      "outputs": [
        {
          "output_type": "stream",
          "name": "stdout",
          "text": [
            "country\n",
            "US                        27177\n",
            "France                    11174\n",
            "Italy                     10005\n",
            "Spain                      3409\n",
            "Portugal                   2963\n",
            "Chile                      2258\n",
            "Argentina                  1907\n",
            "Austria                    1635\n",
            "Australia                  1177\n",
            "Germany                    1051\n",
            "South Africa                737\n",
            "New Zealand                 733\n",
            "Israel                      259\n",
            "Greece                      242\n",
            "Canada                      108\n",
            "Bulgaria                     68\n",
            "Romania                      67\n",
            "Hungary                      61\n",
            "Uruguay                      61\n",
            "Croatia                      44\n",
            "Turkey                       43\n",
            "Slovenia                     39\n",
            "Georgia                      37\n",
            "England                      36\n",
            "Mexico                       31\n",
            "Brazil                       31\n",
            "Moldova                      30\n",
            "Lebanon                      20\n",
            "Morocco                      11\n",
            "Peru                          8\n",
            "Serbia                        7\n",
            "Cyprus                        6\n",
            "Macedonia                     6\n",
            "Czech Republic                6\n",
            "Ukraine                       5\n",
            "India                         4\n",
            "Switzerland                   4\n",
            "Luxembourg                    4\n",
            "Armenia                       1\n",
            "Bosnia and Herzegovina        1\n",
            "Slovakia                      1\n",
            "Name: count, dtype: int64\n"
          ]
        }
      ]
    },
    {
      "cell_type": "markdown",
      "metadata": {
        "id": "OpkB90HkM4cL"
      },
      "source": [
        "#### Question 4: ####\n",
        "Create a variable `adjusted_price` containing the adjusted price which is the price subtracted by the average price. *This is called **\"centering\" transformation** - a method commonly used in the preprocessing step before applying various machine learning algorithms.*"
      ]
    },
    {
      "cell_type": "code",
      "source": [
        "# Your code here . . .\n",
        "wine['adjusted_price'] = wine['price'] - wine['price'].mean()\n",
        "wine['adjusted_price']"
      ],
      "metadata": {
        "id": "PiNrXHhMNeTD",
        "colab": {
          "base_uri": "https://localhost:8080/",
          "height": 458
        },
        "outputId": "1c97fe80-db1b-40a2-9c88-7872331762b9"
      },
      "execution_count": 7,
      "outputs": [
        {
          "output_type": "execute_result",
          "data": {
            "text/plain": [
              "0              NaN\n",
              "1       -20.232932\n",
              "2       -21.232932\n",
              "3       -22.232932\n",
              "4        29.767068\n",
              "           ...    \n",
              "65494     9.767068\n",
              "65495   -13.232932\n",
              "65496   -15.232932\n",
              "65497    -4.232932\n",
              "65498   -25.232932\n",
              "Name: adjusted_price, Length: 65499, dtype: float64"
            ],
            "text/html": [
              "<div>\n",
              "<style scoped>\n",
              "    .dataframe tbody tr th:only-of-type {\n",
              "        vertical-align: middle;\n",
              "    }\n",
              "\n",
              "    .dataframe tbody tr th {\n",
              "        vertical-align: top;\n",
              "    }\n",
              "\n",
              "    .dataframe thead th {\n",
              "        text-align: right;\n",
              "    }\n",
              "</style>\n",
              "<table border=\"1\" class=\"dataframe\">\n",
              "  <thead>\n",
              "    <tr style=\"text-align: right;\">\n",
              "      <th></th>\n",
              "      <th>adjusted_price</th>\n",
              "    </tr>\n",
              "  </thead>\n",
              "  <tbody>\n",
              "    <tr>\n",
              "      <th>0</th>\n",
              "      <td>NaN</td>\n",
              "    </tr>\n",
              "    <tr>\n",
              "      <th>1</th>\n",
              "      <td>-20.232932</td>\n",
              "    </tr>\n",
              "    <tr>\n",
              "      <th>2</th>\n",
              "      <td>-21.232932</td>\n",
              "    </tr>\n",
              "    <tr>\n",
              "      <th>3</th>\n",
              "      <td>-22.232932</td>\n",
              "    </tr>\n",
              "    <tr>\n",
              "      <th>4</th>\n",
              "      <td>29.767068</td>\n",
              "    </tr>\n",
              "    <tr>\n",
              "      <th>...</th>\n",
              "      <td>...</td>\n",
              "    </tr>\n",
              "    <tr>\n",
              "      <th>65494</th>\n",
              "      <td>9.767068</td>\n",
              "    </tr>\n",
              "    <tr>\n",
              "      <th>65495</th>\n",
              "      <td>-13.232932</td>\n",
              "    </tr>\n",
              "    <tr>\n",
              "      <th>65496</th>\n",
              "      <td>-15.232932</td>\n",
              "    </tr>\n",
              "    <tr>\n",
              "      <th>65497</th>\n",
              "      <td>-4.232932</td>\n",
              "    </tr>\n",
              "    <tr>\n",
              "      <th>65498</th>\n",
              "      <td>-25.232932</td>\n",
              "    </tr>\n",
              "  </tbody>\n",
              "</table>\n",
              "<p>65499 rows × 1 columns</p>\n",
              "</div><br><label><b>dtype:</b> float64</label>"
            ]
          },
          "metadata": {},
          "execution_count": 7
        }
      ]
    },
    {
      "cell_type": "markdown",
      "metadata": {
        "id": "AkOtVGS6M4cL"
      },
      "source": [
        "#### Question 5: ####\n",
        "What is the title of the wine that has the highest points-to-price ratio in the dataset?"
      ]
    },
    {
      "cell_type": "code",
      "source": [
        "# Your code here . . .\n",
        "wine['ratio'] = wine['points'] / wine['price']\n",
        "highest = wine.loc[wine['ratio'].idxmax()]\n",
        "print(highest['title'])"
      ],
      "metadata": {
        "id": "M493qpX7NfjD",
        "colab": {
          "base_uri": "https://localhost:8080/"
        },
        "outputId": "0f234c2c-67bf-4bb1-d877-073a64e849a4"
      },
      "execution_count": 10,
      "outputs": [
        {
          "output_type": "stream",
          "name": "stdout",
          "text": [
            "Bandit NV Merlot (California)\n"
          ]
        }
      ]
    },
    {
      "cell_type": "markdown",
      "metadata": {
        "id": "Zqt78i-eM4cL"
      },
      "source": [
        "#### Question 6: ####\n",
        "Create a series `flavor_counts` that contains two values: the number of wines that has the word \"tart\" in the `description` column and the number of wines that has the word \"berries\" in the `description` column. The index of the Series should be \"Tart\" and \"Berries\" for the corresponding values."
      ]
    },
    {
      "cell_type": "code",
      "execution_count": 17,
      "metadata": {
        "id": "uzqdreKSM4cM",
        "colab": {
          "base_uri": "https://localhost:8080/",
          "height": 147
        },
        "outputId": "268648ba-78cc-4eb5-a598-ccf4cbc3ec04"
      },
      "outputs": [
        {
          "output_type": "execute_result",
          "data": {
            "text/plain": [
              "Tart       4424\n",
              "Berries    3512\n",
              "dtype: int64"
            ],
            "text/html": [
              "<div>\n",
              "<style scoped>\n",
              "    .dataframe tbody tr th:only-of-type {\n",
              "        vertical-align: middle;\n",
              "    }\n",
              "\n",
              "    .dataframe tbody tr th {\n",
              "        vertical-align: top;\n",
              "    }\n",
              "\n",
              "    .dataframe thead th {\n",
              "        text-align: right;\n",
              "    }\n",
              "</style>\n",
              "<table border=\"1\" class=\"dataframe\">\n",
              "  <thead>\n",
              "    <tr style=\"text-align: right;\">\n",
              "      <th></th>\n",
              "      <th>0</th>\n",
              "    </tr>\n",
              "  </thead>\n",
              "  <tbody>\n",
              "    <tr>\n",
              "      <th>Tart</th>\n",
              "      <td>4424</td>\n",
              "    </tr>\n",
              "    <tr>\n",
              "      <th>Berries</th>\n",
              "      <td>3512</td>\n",
              "    </tr>\n",
              "  </tbody>\n",
              "</table>\n",
              "</div><br><label><b>dtype:</b> int64</label>"
            ]
          },
          "metadata": {},
          "execution_count": 17
        }
      ],
      "source": [
        "# Look for the word \"tart\", not case sensitive, not a substring of another word.\n",
        "# Same applies to the word \"berries\"\n",
        "# Your code here . . .\n",
        "tart_count = wine['description'].str.contains('Tart', case=False).sum()\n",
        "berries_count = wine['description'].str.contains('Berries', case=False).sum()\n",
        "flavor_counts = pd.Series([tart_count, berries_count], index=[\"Tart\", \"Berries\"])\n",
        "flavor_counts"
      ]
    },
    {
      "cell_type": "markdown",
      "metadata": {
        "id": "wSVdmOw9M4cM"
      },
      "source": [
        "#### Question 7: ####\n",
        "Let's convert the points into simple star ratings. A score of 90 or higher counts as 3 stars, a score of at least 80 but less than 90 is 2 stars. Any other score is 1 star.\n",
        "\n",
        "Also, any wines from France should automatically get 3 stars, regardless of points.\n",
        "\n",
        "Add this new column `star_ratings` to the dataframe with the number of stars for each wine in the dataset."
      ]
    },
    {
      "cell_type": "code",
      "execution_count": 22,
      "metadata": {
        "id": "yOucjOJZM4cN"
      },
      "outputs": [],
      "source": [
        "# Your code here . . .\n",
        "def stars(row):\n",
        "  if (row['country'] == 'France') or (row['points'] >= 90):\n",
        "    return 3\n",
        "  elif row['points'] >= 80:\n",
        "    return 2\n",
        "  else:\n",
        "    return 1\n",
        "wine['star_ratings'] = wine.apply(stars, axis=1)"
      ]
    },
    {
      "cell_type": "markdown",
      "metadata": {
        "id": "v9btZBA6M4cN"
      },
      "source": [
        "#### Question 8: ####\n",
        "Who are the most common wine reviewers in the dataset? Create a Series whose index is the taster_twitter_handle category from the dataset, and whose values count how many reviews each person wrote."
      ]
    },
    {
      "cell_type": "code",
      "source": [
        "# Your code here . . .\n",
        "print(wine['taster_twitter_handle'].value_counts())"
      ],
      "metadata": {
        "id": "dqsUgtGBNiQZ",
        "colab": {
          "base_uri": "https://localhost:8080/"
        },
        "outputId": "4cd504a6-272f-4813-d86c-e137b5e49647"
      },
      "execution_count": 24,
      "outputs": [
        {
          "output_type": "stream",
          "name": "stdout",
          "text": [
            "taster_twitter_handle\n",
            "@vossroger          13045\n",
            "@wineschach          7752\n",
            "@kerinokeefe         5313\n",
            "@paulgwine           4851\n",
            "@vboone              4696\n",
            "@mattkettmann        3035\n",
            "@JoeCz               2605\n",
            "@wawinereport        2358\n",
            "@gordone_cellars     2032\n",
            "@AnneInVino          1769\n",
            "@laurbuzz             938\n",
            "@suskostrzewa         593\n",
            "@worldwineguys        465\n",
            "@bkfiona               11\n",
            "@winewchristina         4\n",
            "Name: count, dtype: int64\n"
          ]
        }
      ]
    },
    {
      "cell_type": "markdown",
      "metadata": {
        "id": "rIO81pKrM4cN"
      },
      "source": [
        "#### Question 9: ####\n",
        "What combination of countries and varieties are most common? Create a Series whose index is a MultiIndexof {country, variety} pairs. For example, a pinot noir produced in the US should map to {\"US\", \"Pinot Noir\"}. Sort the values in the Series in descending order based on wine count."
      ]
    },
    {
      "cell_type": "code",
      "source": [
        "# Your code here . . .\n",
        "both = wine.groupby(['country', 'variety']).size()\n",
        "both.sort_values(ascending=False)"
      ],
      "metadata": {
        "id": "4Is2muZjNjxd",
        "colab": {
          "base_uri": "https://localhost:8080/",
          "height": 489
        },
        "outputId": "5b7ee6d2-aa02-42ea-b0fd-f900b38232c7"
      },
      "execution_count": 30,
      "outputs": [
        {
          "output_type": "execute_result",
          "data": {
            "text/plain": [
              "country  variety                 \n",
              "US       Pinot Noir                  4918\n",
              "         Cabernet Sauvignon          3649\n",
              "         Chardonnay                  3412\n",
              "France   Bordeaux-style Red Blend    2380\n",
              "Italy    Red Blend                   1870\n",
              "                                     ... \n",
              "         Torbato                        1\n",
              "         Vespaiolo                      1\n",
              "         Vespolina                      1\n",
              "         Vitovska                       1\n",
              "Uruguay  Tempranillo-Tannat             1\n",
              "Length: 1304, dtype: int64"
            ],
            "text/html": [
              "<div>\n",
              "<style scoped>\n",
              "    .dataframe tbody tr th:only-of-type {\n",
              "        vertical-align: middle;\n",
              "    }\n",
              "\n",
              "    .dataframe tbody tr th {\n",
              "        vertical-align: top;\n",
              "    }\n",
              "\n",
              "    .dataframe thead th {\n",
              "        text-align: right;\n",
              "    }\n",
              "</style>\n",
              "<table border=\"1\" class=\"dataframe\">\n",
              "  <thead>\n",
              "    <tr style=\"text-align: right;\">\n",
              "      <th></th>\n",
              "      <th></th>\n",
              "      <th>0</th>\n",
              "    </tr>\n",
              "    <tr>\n",
              "      <th>country</th>\n",
              "      <th>variety</th>\n",
              "      <th></th>\n",
              "    </tr>\n",
              "  </thead>\n",
              "  <tbody>\n",
              "    <tr>\n",
              "      <th rowspan=\"3\" valign=\"top\">US</th>\n",
              "      <th>Pinot Noir</th>\n",
              "      <td>4918</td>\n",
              "    </tr>\n",
              "    <tr>\n",
              "      <th>Cabernet Sauvignon</th>\n",
              "      <td>3649</td>\n",
              "    </tr>\n",
              "    <tr>\n",
              "      <th>Chardonnay</th>\n",
              "      <td>3412</td>\n",
              "    </tr>\n",
              "    <tr>\n",
              "      <th>France</th>\n",
              "      <th>Bordeaux-style Red Blend</th>\n",
              "      <td>2380</td>\n",
              "    </tr>\n",
              "    <tr>\n",
              "      <th rowspan=\"6\" valign=\"top\">Italy</th>\n",
              "      <th>Red Blend</th>\n",
              "      <td>1870</td>\n",
              "    </tr>\n",
              "    <tr>\n",
              "      <th>...</th>\n",
              "      <td>...</td>\n",
              "    </tr>\n",
              "    <tr>\n",
              "      <th>Torbato</th>\n",
              "      <td>1</td>\n",
              "    </tr>\n",
              "    <tr>\n",
              "      <th>Vespaiolo</th>\n",
              "      <td>1</td>\n",
              "    </tr>\n",
              "    <tr>\n",
              "      <th>Vespolina</th>\n",
              "      <td>1</td>\n",
              "    </tr>\n",
              "    <tr>\n",
              "      <th>Vitovska</th>\n",
              "      <td>1</td>\n",
              "    </tr>\n",
              "    <tr>\n",
              "      <th>Uruguay</th>\n",
              "      <th>Tempranillo-Tannat</th>\n",
              "      <td>1</td>\n",
              "    </tr>\n",
              "  </tbody>\n",
              "</table>\n",
              "<p>1304 rows × 1 columns</p>\n",
              "</div><br><label><b>dtype:</b> int64</label>"
            ]
          },
          "metadata": {},
          "execution_count": 30
        }
      ]
    },
    {
      "cell_type": "markdown",
      "metadata": {
        "id": "C6sj-ABlM4cO"
      },
      "source": [
        "#### Question 10 #####\n",
        "Create a Series whose index is reviewers and whose values is the average score given out by that reviewer. Hint: you will need the `taster_name` and `points` columns."
      ]
    },
    {
      "cell_type": "code",
      "source": [
        "# Your code here . . .\n",
        "average = wine.groupby('taster_name')['points'].mean()\n",
        "average"
      ],
      "metadata": {
        "id": "QFseCkVwNlAk",
        "colab": {
          "base_uri": "https://localhost:8080/",
          "height": 711
        },
        "outputId": "606e8a95-11f0-4af4-dece-0f66e26b20a6"
      },
      "execution_count": 41,
      "outputs": [
        {
          "output_type": "execute_result",
          "data": {
            "text/plain": [
              "taster_name\n",
              "Alexander Peartree    86.014286\n",
              "Anna Lee C. Iijima    88.380506\n",
              "Anne Krebiehl MW      90.587903\n",
              "Carrie Dykes          86.644444\n",
              "Christina Pickard     89.500000\n",
              "Fiona Adams           87.090909\n",
              "Jeff Jenssen          88.273504\n",
              "Jim Gordon            88.604331\n",
              "Joe Czerwinski        88.519770\n",
              "Kerin O’Keefe         88.827969\n",
              "Lauren Buzzeo         87.831557\n",
              "Matt Kettmann         90.021087\n",
              "Michael Schachner     86.904541\n",
              "Mike DeSimone         89.030303\n",
              "Paul Gregutt          89.095032\n",
              "Roger Voss            88.678957\n",
              "Sean P. Sullivan      88.666243\n",
              "Susan Kostrzewa       86.408094\n",
              "Virginie Boone        89.229557\n",
              "Name: points, dtype: float64"
            ],
            "text/html": [
              "<div>\n",
              "<style scoped>\n",
              "    .dataframe tbody tr th:only-of-type {\n",
              "        vertical-align: middle;\n",
              "    }\n",
              "\n",
              "    .dataframe tbody tr th {\n",
              "        vertical-align: top;\n",
              "    }\n",
              "\n",
              "    .dataframe thead th {\n",
              "        text-align: right;\n",
              "    }\n",
              "</style>\n",
              "<table border=\"1\" class=\"dataframe\">\n",
              "  <thead>\n",
              "    <tr style=\"text-align: right;\">\n",
              "      <th></th>\n",
              "      <th>points</th>\n",
              "    </tr>\n",
              "    <tr>\n",
              "      <th>taster_name</th>\n",
              "      <th></th>\n",
              "    </tr>\n",
              "  </thead>\n",
              "  <tbody>\n",
              "    <tr>\n",
              "      <th>Alexander Peartree</th>\n",
              "      <td>86.014286</td>\n",
              "    </tr>\n",
              "    <tr>\n",
              "      <th>Anna Lee C. Iijima</th>\n",
              "      <td>88.380506</td>\n",
              "    </tr>\n",
              "    <tr>\n",
              "      <th>Anne Krebiehl MW</th>\n",
              "      <td>90.587903</td>\n",
              "    </tr>\n",
              "    <tr>\n",
              "      <th>Carrie Dykes</th>\n",
              "      <td>86.644444</td>\n",
              "    </tr>\n",
              "    <tr>\n",
              "      <th>Christina Pickard</th>\n",
              "      <td>89.500000</td>\n",
              "    </tr>\n",
              "    <tr>\n",
              "      <th>Fiona Adams</th>\n",
              "      <td>87.090909</td>\n",
              "    </tr>\n",
              "    <tr>\n",
              "      <th>Jeff Jenssen</th>\n",
              "      <td>88.273504</td>\n",
              "    </tr>\n",
              "    <tr>\n",
              "      <th>Jim Gordon</th>\n",
              "      <td>88.604331</td>\n",
              "    </tr>\n",
              "    <tr>\n",
              "      <th>Joe Czerwinski</th>\n",
              "      <td>88.519770</td>\n",
              "    </tr>\n",
              "    <tr>\n",
              "      <th>Kerin O’Keefe</th>\n",
              "      <td>88.827969</td>\n",
              "    </tr>\n",
              "    <tr>\n",
              "      <th>Lauren Buzzeo</th>\n",
              "      <td>87.831557</td>\n",
              "    </tr>\n",
              "    <tr>\n",
              "      <th>Matt Kettmann</th>\n",
              "      <td>90.021087</td>\n",
              "    </tr>\n",
              "    <tr>\n",
              "      <th>Michael Schachner</th>\n",
              "      <td>86.904541</td>\n",
              "    </tr>\n",
              "    <tr>\n",
              "      <th>Mike DeSimone</th>\n",
              "      <td>89.030303</td>\n",
              "    </tr>\n",
              "    <tr>\n",
              "      <th>Paul Gregutt</th>\n",
              "      <td>89.095032</td>\n",
              "    </tr>\n",
              "    <tr>\n",
              "      <th>Roger Voss</th>\n",
              "      <td>88.678957</td>\n",
              "    </tr>\n",
              "    <tr>\n",
              "      <th>Sean P. Sullivan</th>\n",
              "      <td>88.666243</td>\n",
              "    </tr>\n",
              "    <tr>\n",
              "      <th>Susan Kostrzewa</th>\n",
              "      <td>86.408094</td>\n",
              "    </tr>\n",
              "    <tr>\n",
              "      <th>Virginie Boone</th>\n",
              "      <td>89.229557</td>\n",
              "    </tr>\n",
              "  </tbody>\n",
              "</table>\n",
              "</div><br><label><b>dtype:</b> float64</label>"
            ]
          },
          "metadata": {},
          "execution_count": 41
        }
      ]
    }
  ],
  "metadata": {
    "kernelspec": {
      "display_name": "Python 3",
      "language": "python",
      "name": "python3"
    },
    "language_info": {
      "codemirror_mode": {
        "name": "ipython",
        "version": 3
      },
      "file_extension": ".py",
      "mimetype": "text/x-python",
      "name": "python",
      "nbconvert_exporter": "python",
      "pygments_lexer": "ipython3",
      "version": "3.7.6"
    },
    "colab": {
      "provenance": []
    }
  },
  "nbformat": 4,
  "nbformat_minor": 0
}